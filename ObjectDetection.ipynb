{
 "cells": [
  {
   "cell_type": "code",
   "id": "initial_id",
   "metadata": {
    "collapsed": true,
    "ExecuteTime": {
     "end_time": "2024-05-29T20:56:05.441621Z",
     "start_time": "2024-05-29T20:56:05.438419Z"
    }
   },
   "source": "#This Notebook will detect each \"fission track candidate\" within an already segmented image\n",
   "outputs": [],
   "execution_count": 1
  },
  {
   "metadata": {
    "ExecuteTime": {
     "end_time": "2024-05-29T20:58:47.076785Z",
     "start_time": "2024-05-29T20:58:47.073488Z"
    }
   },
   "cell_type": "code",
   "source": "#pip install pillow",
   "id": "47c83806efa86d0f",
   "outputs": [],
   "execution_count": 2
  },
  {
   "metadata": {},
   "cell_type": "code",
   "outputs": [],
   "execution_count": null,
   "source": [
    "from PIL import Image\n",
    "import numpy as np\n",
    "\n",
    "def process_tiff_image(image_path, image_details = False, arr_details = False):\n",
    "    # Open the image using PIL\n",
    "    with Image.open(image_path) as img:\n",
    "        # Ensure the image is 256x256\n",
    "        if img.size != (256, 256):\n",
    "            raise ValueError(\"The image is not 256x256 pixels.\")\n",
    "        \n",
    "        # Print image details\n",
    "        if image_details:\n",
    "            print(f\"Image format: {img.format}\")\n",
    "            print(f\"Image mode: {img.mode}\")\n",
    "            print(f\"Image size: {img.size}\")\n",
    "\n",
    "        # Convert image to numpy array\n",
    "        img_array = np.array(img)\n",
    "        if arr_details:\n",
    "            print(f\"Image array shape: {img_array.shape}\")\n",
    "        return img_array\n",
    "\n",
    "# Example usage\n",
    "# process_tiff_image('path_to_your_image.tiff')\n"
   ],
   "id": "16d4db6317e231b5"
  }
 ],
 "metadata": {
  "kernelspec": {
   "display_name": "Python 3",
   "language": "python",
   "name": "python3"
  },
  "language_info": {
   "codemirror_mode": {
    "name": "ipython",
    "version": 2
   },
   "file_extension": ".py",
   "mimetype": "text/x-python",
   "name": "python",
   "nbconvert_exporter": "python",
   "pygments_lexer": "ipython2",
   "version": "2.7.6"
  }
 },
 "nbformat": 4,
 "nbformat_minor": 5
}
